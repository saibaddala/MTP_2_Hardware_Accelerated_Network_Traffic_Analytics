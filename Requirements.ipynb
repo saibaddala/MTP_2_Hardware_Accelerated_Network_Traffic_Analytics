{
 "cells": [
  {
   "cell_type": "code",
   "execution_count": null,
   "id": "f3d127ed-7abf-413d-bb3c-dab35d481824",
   "metadata": {
    "scrolled": true
   },
   "outputs": [],
   "source": [
    "conda install -c conda-forge jupyter_contrib_nbextensions=0.7.0"
   ]
  },
  {
   "cell_type": "code",
   "execution_count": null,
   "id": "78775acd-af52-486b-ba54-b2c997725f79",
   "metadata": {
    "scrolled": true
   },
   "outputs": [],
   "source": [
    "conda install -c conda-forge jupyterhub=3.1.1"
   ]
  },
  {
   "cell_type": "code",
   "execution_count": null,
   "id": "f5bc91cb-cb7a-4ca7-94cf-4144bdd69660",
   "metadata": {
    "scrolled": true
   },
   "outputs": [],
   "source": [
    "conda install -c conda-forge jupyter-book=0.15.1"
   ]
  },
  {
   "cell_type": "code",
   "execution_count": null,
   "id": "9289ffaa-2dd7-43db-9537-fc30d84778ca",
   "metadata": {},
   "outputs": [],
   "source": [
    "conda install -c conda-forge jsonschema-with-format-nongpl"
   ]
  },
  {
   "cell_type": "code",
   "execution_count": null,
   "id": "b75438fe-2af0-4b7e-be24-175d679d108a",
   "metadata": {
    "scrolled": true
   },
   "outputs": [],
   "source": [
    "conda install -c conda-forge pydot=1.4.2"
   ]
  },
  {
   "cell_type": "code",
   "execution_count": null,
   "id": "a2d2b240-8207-42d0-988d-b4f1fac32afe",
   "metadata": {
    "scrolled": true
   },
   "outputs": [],
   "source": [
    "conda install -c conda-forge graphviz=7.1.0"
   ]
  },
  {
   "cell_type": "code",
   "execution_count": null,
   "id": "9146d029-6191-4f5a-aefb-09fb4dcf18ef",
   "metadata": {
    "scrolled": true
   },
   "outputs": [],
   "source": [
    "conda install -c conda-forge scikit-learn=1.2.2"
   ]
  },
  {
   "cell_type": "code",
   "execution_count": null,
   "id": "2ae59f3d-057a-4fc3-8634-92a5d98ad551",
   "metadata": {
    "scrolled": true
   },
   "outputs": [],
   "source": [
    "conda install -c conda-forge tensorflow=2.11.1"
   ]
  },
  {
   "cell_type": "code",
   "execution_count": null,
   "id": "bbbd78c5-063e-487a-879e-b09e9d59520c",
   "metadata": {
    "scrolled": true
   },
   "outputs": [],
   "source": [
    "conda install -c conda-forge tensorflow-datasets=4.8.3"
   ]
  },
  {
   "cell_type": "code",
   "execution_count": null,
   "id": "38adc2ab-7b05-4a8d-a154-331732c6e81d",
   "metadata": {
    "scrolled": true
   },
   "outputs": [],
   "source": [
    "conda install -c conda-forge webcolorsconda install -c conda-forge"
   ]
  },
  {
   "cell_type": "code",
   "execution_count": null,
   "id": "57b6dec8-dc92-4535-a0bc-48618f08daa7",
   "metadata": {
    "scrolled": true
   },
   "outputs": [],
   "source": [
    "conda install -c conda-forge widgetsnbextension=3.6.0"
   ]
  },
  {
   "cell_type": "code",
   "execution_count": null,
   "id": "40321160-b7f1-47c7-abfe-ebdb3144b0fd",
   "metadata": {
    "scrolled": true
   },
   "outputs": [],
   "source": [
    "conda install -c conda-forge pip=23.0.1 -y"
   ]
  },
  {
   "cell_type": "code",
   "execution_count": null,
   "id": "a942da78-dd3b-44fc-9072-d79a8453c765",
   "metadata": {
    "scrolled": true
   },
   "outputs": [],
   "source": [
    "pip install matplotlib"
   ]
  },
  {
   "cell_type": "code",
   "execution_count": null,
   "id": "6fe21b9d-71d2-436d-a209-8d2c65da3e9d",
   "metadata": {
    "scrolled": true
   },
   "outputs": [],
   "source": [
    "pip install pandas"
   ]
  },
  {
   "cell_type": "code",
   "execution_count": null,
   "id": "a0d553de-da96-485e-b5d5-0582f743154b",
   "metadata": {
    "scrolled": true
   },
   "outputs": [],
   "source": [
    "pip install hls4ml[profiling]==0.8.0"
   ]
  },
  {
   "cell_type": "code",
   "execution_count": null,
   "id": "08943b23-383a-42b9-902e-55356daee4f0",
   "metadata": {
    "scrolled": true
   },
   "outputs": [],
   "source": [
    "pip install qkeras==0.9.0"
   ]
  },
  {
   "cell_type": "code",
   "execution_count": null,
   "id": "7d3c36b6-7669-48ff-b9e5-ed9e0631f34c",
   "metadata": {
    "scrolled": true
   },
   "outputs": [],
   "source": [
    "pip install conifer==0.2b0"
   ]
  },
  {
   "cell_type": "code",
   "execution_count": null,
   "id": "96cb8792-366e-44f4-b2d6-dc2b8621df68",
   "metadata": {
    "scrolled": true
   },
   "outputs": [],
   "source": [
    "pip install pysr==0.16.3"
   ]
  },
  {
   "cell_type": "code",
   "execution_count": null,
   "id": "df446cbb-93bc-485d-bd08-7b4ed3310a01",
   "metadata": {},
   "outputs": [],
   "source": [
    "pip install xgboost==1.7.5"
   ]
  },
  {
   "cell_type": "code",
   "execution_count": null,
   "id": "859710c5-9045-41a4-a5a2-8f9c5a6d2ab3",
   "metadata": {
    "scrolled": true
   },
   "outputs": [],
   "source": [
    "pip install hls4ml"
   ]
  },
  {
   "cell_type": "code",
   "execution_count": null,
   "id": "dd79e857-0607-42aa-80a1-0c808925d640",
   "metadata": {
    "scrolled": true
   },
   "outputs": [],
   "source": [
    "pip install qkeras"
   ]
  },
  {
   "cell_type": "code",
   "execution_count": null,
   "id": "961f30ad-d17d-4b7f-b657-4c0af564d3c9",
   "metadata": {},
   "outputs": [],
   "source": []
  }
 ],
 "metadata": {
  "kernelspec": {
   "display_name": "Python 3 (ipykernel)",
   "language": "python",
   "name": "python3"
  },
  "language_info": {
   "codemirror_mode": {
    "name": "ipython",
    "version": 3
   },
   "file_extension": ".py",
   "mimetype": "text/x-python",
   "name": "python",
   "nbconvert_exporter": "python",
   "pygments_lexer": "ipython3",
   "version": "3.10.13"
  }
 },
 "nbformat": 4,
 "nbformat_minor": 5
}
